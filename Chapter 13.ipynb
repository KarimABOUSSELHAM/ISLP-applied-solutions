{
 "cells": [
  {
   "cell_type": "markdown",
   "id": "78f36a51",
   "metadata": {},
   "source": [
    "# Chapter 13"
   ]
  },
  {
   "cell_type": "code",
   "execution_count": 1,
   "id": "cda5b72c",
   "metadata": {},
   "outputs": [],
   "source": [
    "import numpy as np\n",
    "import pandas as pd\n",
    "import matplotlib.pyplot as plt\n",
    "import statsmodels.api as sm\n",
    "from ISLP import load_data\n",
    "from ISLP.models import (ModelSpec as MS, summarize)\n",
    "from scipy.stats import \\\n",
    "    (ttest_1samp,\n",
    "     ttest_rel,\n",
    "     ttest_ind,\n",
    "     t as t_dbn)\n",
    "from statsmodels.stats.multicomp import \\\n",
    "     pairwise_tukeyhsd\n",
    "from statsmodels.stats.multitest import \\\n",
    "     multipletests as mult_test"
   ]
  },
  {
   "cell_type": "markdown",
   "id": "6151b0fa",
   "metadata": {},
   "source": [
    "## Exercise 7"
   ]
  },
  {
   "cell_type": "code",
   "execution_count": 5,
   "id": "02cf8848",
   "metadata": {},
   "outputs": [],
   "source": [
    "Carseats=load_data('Carseats')"
   ]
  },
  {
   "cell_type": "markdown",
   "id": "f8e4dd5e",
   "metadata": {},
   "source": [
    "### (a)"
   ]
  },
  {
   "cell_type": "code",
   "execution_count": 6,
   "id": "065db109",
   "metadata": {},
   "outputs": [
    {
     "data": {
      "text/html": [
       "<div>\n",
       "<style scoped>\n",
       "    .dataframe tbody tr th:only-of-type {\n",
       "        vertical-align: middle;\n",
       "    }\n",
       "\n",
       "    .dataframe tbody tr th {\n",
       "        vertical-align: top;\n",
       "    }\n",
       "\n",
       "    .dataframe thead th {\n",
       "        text-align: right;\n",
       "    }\n",
       "</style>\n",
       "<table border=\"1\" class=\"dataframe\">\n",
       "  <thead>\n",
       "    <tr style=\"text-align: right;\">\n",
       "      <th></th>\n",
       "      <th>Sales</th>\n",
       "      <th>CompPrice</th>\n",
       "      <th>Income</th>\n",
       "      <th>Advertising</th>\n",
       "      <th>Population</th>\n",
       "      <th>Price</th>\n",
       "      <th>ShelveLoc</th>\n",
       "      <th>Age</th>\n",
       "      <th>Education</th>\n",
       "      <th>Urban</th>\n",
       "      <th>US</th>\n",
       "    </tr>\n",
       "  </thead>\n",
       "  <tbody>\n",
       "    <tr>\n",
       "      <th>0</th>\n",
       "      <td>9.50</td>\n",
       "      <td>138</td>\n",
       "      <td>73</td>\n",
       "      <td>11</td>\n",
       "      <td>276</td>\n",
       "      <td>120</td>\n",
       "      <td>Bad</td>\n",
       "      <td>42</td>\n",
       "      <td>17</td>\n",
       "      <td>Yes</td>\n",
       "      <td>Yes</td>\n",
       "    </tr>\n",
       "    <tr>\n",
       "      <th>1</th>\n",
       "      <td>11.22</td>\n",
       "      <td>111</td>\n",
       "      <td>48</td>\n",
       "      <td>16</td>\n",
       "      <td>260</td>\n",
       "      <td>83</td>\n",
       "      <td>Good</td>\n",
       "      <td>65</td>\n",
       "      <td>10</td>\n",
       "      <td>Yes</td>\n",
       "      <td>Yes</td>\n",
       "    </tr>\n",
       "    <tr>\n",
       "      <th>2</th>\n",
       "      <td>10.06</td>\n",
       "      <td>113</td>\n",
       "      <td>35</td>\n",
       "      <td>10</td>\n",
       "      <td>269</td>\n",
       "      <td>80</td>\n",
       "      <td>Medium</td>\n",
       "      <td>59</td>\n",
       "      <td>12</td>\n",
       "      <td>Yes</td>\n",
       "      <td>Yes</td>\n",
       "    </tr>\n",
       "    <tr>\n",
       "      <th>3</th>\n",
       "      <td>7.40</td>\n",
       "      <td>117</td>\n",
       "      <td>100</td>\n",
       "      <td>4</td>\n",
       "      <td>466</td>\n",
       "      <td>97</td>\n",
       "      <td>Medium</td>\n",
       "      <td>55</td>\n",
       "      <td>14</td>\n",
       "      <td>Yes</td>\n",
       "      <td>Yes</td>\n",
       "    </tr>\n",
       "    <tr>\n",
       "      <th>4</th>\n",
       "      <td>4.15</td>\n",
       "      <td>141</td>\n",
       "      <td>64</td>\n",
       "      <td>3</td>\n",
       "      <td>340</td>\n",
       "      <td>128</td>\n",
       "      <td>Bad</td>\n",
       "      <td>38</td>\n",
       "      <td>13</td>\n",
       "      <td>Yes</td>\n",
       "      <td>No</td>\n",
       "    </tr>\n",
       "  </tbody>\n",
       "</table>\n",
       "</div>"
      ],
      "text/plain": [
       "   Sales  CompPrice  Income  Advertising  Population  Price ShelveLoc  Age  \\\n",
       "0   9.50        138      73           11         276    120       Bad   42   \n",
       "1  11.22        111      48           16         260     83      Good   65   \n",
       "2  10.06        113      35           10         269     80    Medium   59   \n",
       "3   7.40        117     100            4         466     97    Medium   55   \n",
       "4   4.15        141      64            3         340    128       Bad   38   \n",
       "\n",
       "   Education Urban   US  \n",
       "0         17   Yes  Yes  \n",
       "1         10   Yes  Yes  \n",
       "2         12   Yes  Yes  \n",
       "3         14   Yes  Yes  \n",
       "4         13   Yes   No  "
      ]
     },
     "execution_count": 6,
     "metadata": {},
     "output_type": "execute_result"
    }
   ],
   "source": [
    "Carseats.head()"
   ]
  },
  {
   "cell_type": "code",
   "execution_count": 7,
   "id": "ef76df0a",
   "metadata": {},
   "outputs": [
    {
     "name": "stdout",
     "output_type": "stream",
     "text": [
      "<class 'pandas.core.frame.DataFrame'>\n",
      "RangeIndex: 400 entries, 0 to 399\n",
      "Data columns (total 11 columns):\n",
      " #   Column       Non-Null Count  Dtype   \n",
      "---  ------       --------------  -----   \n",
      " 0   Sales        400 non-null    float64 \n",
      " 1   CompPrice    400 non-null    int64   \n",
      " 2   Income       400 non-null    int64   \n",
      " 3   Advertising  400 non-null    int64   \n",
      " 4   Population   400 non-null    int64   \n",
      " 5   Price        400 non-null    int64   \n",
      " 6   ShelveLoc    400 non-null    category\n",
      " 7   Age          400 non-null    int64   \n",
      " 8   Education    400 non-null    int64   \n",
      " 9   Urban        400 non-null    category\n",
      " 10  US           400 non-null    category\n",
      "dtypes: category(3), float64(1), int64(7)\n",
      "memory usage: 26.7 KB\n"
     ]
    }
   ],
   "source": [
    "Carseats.info()"
   ]
  },
  {
   "cell_type": "code",
   "execution_count": 8,
   "id": "017a6ac4",
   "metadata": {},
   "outputs": [
    {
     "data": {
      "text/html": [
       "<div>\n",
       "<style scoped>\n",
       "    .dataframe tbody tr th:only-of-type {\n",
       "        vertical-align: middle;\n",
       "    }\n",
       "\n",
       "    .dataframe tbody tr th {\n",
       "        vertical-align: top;\n",
       "    }\n",
       "\n",
       "    .dataframe thead th {\n",
       "        text-align: right;\n",
       "    }\n",
       "</style>\n",
       "<table border=\"1\" class=\"dataframe\">\n",
       "  <thead>\n",
       "    <tr style=\"text-align: right;\">\n",
       "      <th></th>\n",
       "      <th>intercept</th>\n",
       "      <th>CompPrice</th>\n",
       "      <th>Income</th>\n",
       "      <th>Advertising</th>\n",
       "      <th>Population</th>\n",
       "      <th>Price</th>\n",
       "      <th>Age</th>\n",
       "      <th>Education</th>\n",
       "    </tr>\n",
       "  </thead>\n",
       "  <tbody>\n",
       "    <tr>\n",
       "      <th>0</th>\n",
       "      <td>1.0</td>\n",
       "      <td>138</td>\n",
       "      <td>73</td>\n",
       "      <td>11</td>\n",
       "      <td>276</td>\n",
       "      <td>120</td>\n",
       "      <td>42</td>\n",
       "      <td>17</td>\n",
       "    </tr>\n",
       "    <tr>\n",
       "      <th>1</th>\n",
       "      <td>1.0</td>\n",
       "      <td>111</td>\n",
       "      <td>48</td>\n",
       "      <td>16</td>\n",
       "      <td>260</td>\n",
       "      <td>83</td>\n",
       "      <td>65</td>\n",
       "      <td>10</td>\n",
       "    </tr>\n",
       "    <tr>\n",
       "      <th>2</th>\n",
       "      <td>1.0</td>\n",
       "      <td>113</td>\n",
       "      <td>35</td>\n",
       "      <td>10</td>\n",
       "      <td>269</td>\n",
       "      <td>80</td>\n",
       "      <td>59</td>\n",
       "      <td>12</td>\n",
       "    </tr>\n",
       "    <tr>\n",
       "      <th>3</th>\n",
       "      <td>1.0</td>\n",
       "      <td>117</td>\n",
       "      <td>100</td>\n",
       "      <td>4</td>\n",
       "      <td>466</td>\n",
       "      <td>97</td>\n",
       "      <td>55</td>\n",
       "      <td>14</td>\n",
       "    </tr>\n",
       "    <tr>\n",
       "      <th>4</th>\n",
       "      <td>1.0</td>\n",
       "      <td>141</td>\n",
       "      <td>64</td>\n",
       "      <td>3</td>\n",
       "      <td>340</td>\n",
       "      <td>128</td>\n",
       "      <td>38</td>\n",
       "      <td>13</td>\n",
       "    </tr>\n",
       "    <tr>\n",
       "      <th>...</th>\n",
       "      <td>...</td>\n",
       "      <td>...</td>\n",
       "      <td>...</td>\n",
       "      <td>...</td>\n",
       "      <td>...</td>\n",
       "      <td>...</td>\n",
       "      <td>...</td>\n",
       "      <td>...</td>\n",
       "    </tr>\n",
       "    <tr>\n",
       "      <th>395</th>\n",
       "      <td>1.0</td>\n",
       "      <td>138</td>\n",
       "      <td>108</td>\n",
       "      <td>17</td>\n",
       "      <td>203</td>\n",
       "      <td>128</td>\n",
       "      <td>33</td>\n",
       "      <td>14</td>\n",
       "    </tr>\n",
       "    <tr>\n",
       "      <th>396</th>\n",
       "      <td>1.0</td>\n",
       "      <td>139</td>\n",
       "      <td>23</td>\n",
       "      <td>3</td>\n",
       "      <td>37</td>\n",
       "      <td>120</td>\n",
       "      <td>55</td>\n",
       "      <td>11</td>\n",
       "    </tr>\n",
       "    <tr>\n",
       "      <th>397</th>\n",
       "      <td>1.0</td>\n",
       "      <td>162</td>\n",
       "      <td>26</td>\n",
       "      <td>12</td>\n",
       "      <td>368</td>\n",
       "      <td>159</td>\n",
       "      <td>40</td>\n",
       "      <td>18</td>\n",
       "    </tr>\n",
       "    <tr>\n",
       "      <th>398</th>\n",
       "      <td>1.0</td>\n",
       "      <td>100</td>\n",
       "      <td>79</td>\n",
       "      <td>7</td>\n",
       "      <td>284</td>\n",
       "      <td>95</td>\n",
       "      <td>50</td>\n",
       "      <td>12</td>\n",
       "    </tr>\n",
       "    <tr>\n",
       "      <th>399</th>\n",
       "      <td>1.0</td>\n",
       "      <td>134</td>\n",
       "      <td>37</td>\n",
       "      <td>0</td>\n",
       "      <td>27</td>\n",
       "      <td>120</td>\n",
       "      <td>49</td>\n",
       "      <td>16</td>\n",
       "    </tr>\n",
       "  </tbody>\n",
       "</table>\n",
       "<p>400 rows × 8 columns</p>\n",
       "</div>"
      ],
      "text/plain": [
       "     intercept  CompPrice  Income  Advertising  Population  Price  Age  \\\n",
       "0          1.0        138      73           11         276    120   42   \n",
       "1          1.0        111      48           16         260     83   65   \n",
       "2          1.0        113      35           10         269     80   59   \n",
       "3          1.0        117     100            4         466     97   55   \n",
       "4          1.0        141      64            3         340    128   38   \n",
       "..         ...        ...     ...          ...         ...    ...  ...   \n",
       "395        1.0        138     108           17         203    128   33   \n",
       "396        1.0        139      23            3          37    120   55   \n",
       "397        1.0        162      26           12         368    159   40   \n",
       "398        1.0        100      79            7         284     95   50   \n",
       "399        1.0        134      37            0          27    120   49   \n",
       "\n",
       "     Education  \n",
       "0           17  \n",
       "1           10  \n",
       "2           12  \n",
       "3           14  \n",
       "4           13  \n",
       "..         ...  \n",
       "395         14  \n",
       "396         11  \n",
       "397         18  \n",
       "398         12  \n",
       "399         16  \n",
       "\n",
       "[400 rows x 8 columns]"
      ]
     },
     "execution_count": 8,
     "metadata": {},
     "output_type": "execute_result"
    }
   ],
   "source": [
    "design=MS(Carseats.columns.drop(['Sales','ShelveLoc','Urban','US']))\n",
    "y=Carseats['Sales']\n",
    "X=design.fit_transform(Carseats)\n",
    "X\n"
   ]
  },
  {
   "cell_type": "code",
   "execution_count": 48,
   "id": "f9344d4a",
   "metadata": {},
   "outputs": [],
   "source": [
    "Xs=[]\n",
    "results=[]\n",
    "p_values=[]\n",
    "for i in range(1,X.shape[1]):\n",
    "    Xs.append(X.iloc[:,[0,i]])\n",
    "for i in range(len(Xs)):\n",
    "    results.append(sm.OLS(y,Xs[i]).fit())\n",
    "for i in range(len(results)):\n",
    "    p_values.append(results[i].pvalues[1])#This way you will prevent pvalues form being rounded\n",
    "df=pd.DataFrame({'Variables':X.columns.drop(['intercept']),'p_values':p_values})"
   ]
  },
  {
   "cell_type": "code",
   "execution_count": 49,
   "id": "4e78ce32",
   "metadata": {},
   "outputs": [
    {
     "data": {
      "text/html": [
       "<div>\n",
       "<style scoped>\n",
       "    .dataframe tbody tr th:only-of-type {\n",
       "        vertical-align: middle;\n",
       "    }\n",
       "\n",
       "    .dataframe tbody tr th {\n",
       "        vertical-align: top;\n",
       "    }\n",
       "\n",
       "    .dataframe thead th {\n",
       "        text-align: right;\n",
       "    }\n",
       "</style>\n",
       "<table border=\"1\" class=\"dataframe\">\n",
       "  <thead>\n",
       "    <tr style=\"text-align: right;\">\n",
       "      <th></th>\n",
       "      <th>Variables</th>\n",
       "      <th>p_values</th>\n",
       "    </tr>\n",
       "  </thead>\n",
       "  <tbody>\n",
       "    <tr>\n",
       "      <th>0</th>\n",
       "      <td>CompPrice</td>\n",
       "      <td>2.009398e-01</td>\n",
       "    </tr>\n",
       "    <tr>\n",
       "      <th>1</th>\n",
       "      <td>Income</td>\n",
       "      <td>2.309670e-03</td>\n",
       "    </tr>\n",
       "    <tr>\n",
       "      <th>2</th>\n",
       "      <td>Advertising</td>\n",
       "      <td>4.377677e-08</td>\n",
       "    </tr>\n",
       "    <tr>\n",
       "      <th>3</th>\n",
       "      <td>Population</td>\n",
       "      <td>3.139816e-01</td>\n",
       "    </tr>\n",
       "    <tr>\n",
       "      <th>4</th>\n",
       "      <td>Price</td>\n",
       "      <td>7.618187e-21</td>\n",
       "    </tr>\n",
       "    <tr>\n",
       "      <th>5</th>\n",
       "      <td>Age</td>\n",
       "      <td>2.788950e-06</td>\n",
       "    </tr>\n",
       "    <tr>\n",
       "      <th>6</th>\n",
       "      <td>Education</td>\n",
       "      <td>2.999442e-01</td>\n",
       "    </tr>\n",
       "  </tbody>\n",
       "</table>\n",
       "</div>"
      ],
      "text/plain": [
       "     Variables      p_values\n",
       "0    CompPrice  2.009398e-01\n",
       "1       Income  2.309670e-03\n",
       "2  Advertising  4.377677e-08\n",
       "3   Population  3.139816e-01\n",
       "4        Price  7.618187e-21\n",
       "5          Age  2.788950e-06\n",
       "6    Education  2.999442e-01"
      ]
     },
     "execution_count": 49,
     "metadata": {},
     "output_type": "execute_result"
    }
   ],
   "source": [
    "df"
   ]
  },
  {
   "cell_type": "markdown",
   "id": "121f3629",
   "metadata": {},
   "source": [
    "### (b)"
   ]
  },
  {
   "cell_type": "markdown",
   "id": "9b2666e5",
   "metadata": {},
   "source": [
    "If we control the type I error for each the seven models fitted in the previous question at level 5%, then we reject the null hypotheses of the form $H_{0,j}: \\beta_{1,j}=0$, associated with variables 'CompPrice', 'Population' and 'Education'."
   ]
  },
  {
   "cell_type": "markdown",
   "id": "98255375",
   "metadata": {},
   "source": [
    "### (c)"
   ]
  },
  {
   "cell_type": "code",
   "execution_count": 59,
   "id": "5801dea0",
   "metadata": {},
   "outputs": [],
   "source": [
    "#We use the Holm's step down approach \n",
    "alpha=0.05\n",
    "m=df.shape[0]\n",
    "df_sorted=df.sort_values(by=['p_values'])\n",
    "#Step 4 of Holm's step down method\n",
    "condition=[]\n",
    "for i in range(df_sorted.shape[0]):\n",
    "    if df_sorted['p_values'].iloc[i]>alpha/(m+2-i):\n",
    "        condition.append(i)\n"
   ]
  },
  {
   "cell_type": "code",
   "execution_count": 60,
   "id": "77f802d0",
   "metadata": {},
   "outputs": [],
   "source": [
    "L=min(condition)"
   ]
  },
  {
   "cell_type": "code",
   "execution_count": 61,
   "id": "369f1cab",
   "metadata": {},
   "outputs": [],
   "source": [
    "df_sorted['Reject']=np.where(df_sorted['p_values']<df_sorted['p_values'].iloc[L],'Yes','No')"
   ]
  },
  {
   "cell_type": "code",
   "execution_count": 62,
   "id": "f7b6073e",
   "metadata": {},
   "outputs": [
    {
     "data": {
      "text/html": [
       "<div>\n",
       "<style scoped>\n",
       "    .dataframe tbody tr th:only-of-type {\n",
       "        vertical-align: middle;\n",
       "    }\n",
       "\n",
       "    .dataframe tbody tr th {\n",
       "        vertical-align: top;\n",
       "    }\n",
       "\n",
       "    .dataframe thead th {\n",
       "        text-align: right;\n",
       "    }\n",
       "</style>\n",
       "<table border=\"1\" class=\"dataframe\">\n",
       "  <thead>\n",
       "    <tr style=\"text-align: right;\">\n",
       "      <th></th>\n",
       "      <th>Variables</th>\n",
       "      <th>p_values</th>\n",
       "      <th>Reject</th>\n",
       "    </tr>\n",
       "  </thead>\n",
       "  <tbody>\n",
       "    <tr>\n",
       "      <th>4</th>\n",
       "      <td>Price</td>\n",
       "      <td>7.618187e-21</td>\n",
       "      <td>Yes</td>\n",
       "    </tr>\n",
       "    <tr>\n",
       "      <th>2</th>\n",
       "      <td>Advertising</td>\n",
       "      <td>4.377677e-08</td>\n",
       "      <td>Yes</td>\n",
       "    </tr>\n",
       "    <tr>\n",
       "      <th>5</th>\n",
       "      <td>Age</td>\n",
       "      <td>2.788950e-06</td>\n",
       "      <td>Yes</td>\n",
       "    </tr>\n",
       "    <tr>\n",
       "      <th>1</th>\n",
       "      <td>Income</td>\n",
       "      <td>2.309670e-03</td>\n",
       "      <td>Yes</td>\n",
       "    </tr>\n",
       "    <tr>\n",
       "      <th>0</th>\n",
       "      <td>CompPrice</td>\n",
       "      <td>2.009398e-01</td>\n",
       "      <td>No</td>\n",
       "    </tr>\n",
       "    <tr>\n",
       "      <th>6</th>\n",
       "      <td>Education</td>\n",
       "      <td>2.999442e-01</td>\n",
       "      <td>No</td>\n",
       "    </tr>\n",
       "    <tr>\n",
       "      <th>3</th>\n",
       "      <td>Population</td>\n",
       "      <td>3.139816e-01</td>\n",
       "      <td>No</td>\n",
       "    </tr>\n",
       "  </tbody>\n",
       "</table>\n",
       "</div>"
      ],
      "text/plain": [
       "     Variables      p_values Reject\n",
       "4        Price  7.618187e-21    Yes\n",
       "2  Advertising  4.377677e-08    Yes\n",
       "5          Age  2.788950e-06    Yes\n",
       "1       Income  2.309670e-03    Yes\n",
       "0    CompPrice  2.009398e-01     No\n",
       "6    Education  2.999442e-01     No\n",
       "3   Population  3.139816e-01     No"
      ]
     },
     "execution_count": 62,
     "metadata": {},
     "output_type": "execute_result"
    }
   ],
   "source": [
    "df_sorted"
   ]
  },
  {
   "cell_type": "markdown",
   "id": "108b1e15",
   "metadata": {},
   "source": [
    "### (d)"
   ]
  },
  {
   "cell_type": "code",
   "execution_count": 70,
   "id": "833670c1",
   "metadata": {},
   "outputs": [],
   "source": [
    "qvalues = mult_test(df['p_values'],alpha=0.2, method = \"fdr_bh\")[0]"
   ]
  },
  {
   "cell_type": "code",
   "execution_count": 71,
   "id": "c2b25c9a",
   "metadata": {},
   "outputs": [],
   "source": [
    "df['Reject_FDR_bh']=np.where(qvalues==True,'Yes','No')"
   ]
  },
  {
   "cell_type": "code",
   "execution_count": 72,
   "id": "ae961c2d",
   "metadata": {},
   "outputs": [
    {
     "data": {
      "text/html": [
       "<div>\n",
       "<style scoped>\n",
       "    .dataframe tbody tr th:only-of-type {\n",
       "        vertical-align: middle;\n",
       "    }\n",
       "\n",
       "    .dataframe tbody tr th {\n",
       "        vertical-align: top;\n",
       "    }\n",
       "\n",
       "    .dataframe thead th {\n",
       "        text-align: right;\n",
       "    }\n",
       "</style>\n",
       "<table border=\"1\" class=\"dataframe\">\n",
       "  <thead>\n",
       "    <tr style=\"text-align: right;\">\n",
       "      <th></th>\n",
       "      <th>Variables</th>\n",
       "      <th>p_values</th>\n",
       "      <th>Reject_FDR_bh</th>\n",
       "    </tr>\n",
       "  </thead>\n",
       "  <tbody>\n",
       "    <tr>\n",
       "      <th>0</th>\n",
       "      <td>CompPrice</td>\n",
       "      <td>2.009398e-01</td>\n",
       "      <td>No</td>\n",
       "    </tr>\n",
       "    <tr>\n",
       "      <th>1</th>\n",
       "      <td>Income</td>\n",
       "      <td>2.309670e-03</td>\n",
       "      <td>Yes</td>\n",
       "    </tr>\n",
       "    <tr>\n",
       "      <th>2</th>\n",
       "      <td>Advertising</td>\n",
       "      <td>4.377677e-08</td>\n",
       "      <td>Yes</td>\n",
       "    </tr>\n",
       "    <tr>\n",
       "      <th>3</th>\n",
       "      <td>Population</td>\n",
       "      <td>3.139816e-01</td>\n",
       "      <td>No</td>\n",
       "    </tr>\n",
       "    <tr>\n",
       "      <th>4</th>\n",
       "      <td>Price</td>\n",
       "      <td>7.618187e-21</td>\n",
       "      <td>Yes</td>\n",
       "    </tr>\n",
       "    <tr>\n",
       "      <th>5</th>\n",
       "      <td>Age</td>\n",
       "      <td>2.788950e-06</td>\n",
       "      <td>Yes</td>\n",
       "    </tr>\n",
       "    <tr>\n",
       "      <th>6</th>\n",
       "      <td>Education</td>\n",
       "      <td>2.999442e-01</td>\n",
       "      <td>No</td>\n",
       "    </tr>\n",
       "  </tbody>\n",
       "</table>\n",
       "</div>"
      ],
      "text/plain": [
       "     Variables      p_values Reject_FDR_bh\n",
       "0    CompPrice  2.009398e-01            No\n",
       "1       Income  2.309670e-03           Yes\n",
       "2  Advertising  4.377677e-08           Yes\n",
       "3   Population  3.139816e-01            No\n",
       "4        Price  7.618187e-21           Yes\n",
       "5          Age  2.788950e-06           Yes\n",
       "6    Education  2.999442e-01            No"
      ]
     },
     "execution_count": 72,
     "metadata": {},
     "output_type": "execute_result"
    }
   ],
   "source": [
    "df"
   ]
  },
  {
   "cell_type": "markdown",
   "id": "7f03b565",
   "metadata": {},
   "source": [
    "## Exercise 8"
   ]
  },
  {
   "cell_type": "code",
   "execution_count": 2,
   "id": "9eb0c014",
   "metadata": {},
   "outputs": [],
   "source": [
    "rng = np.random.default_rng (1)\n",
    "n, m = 20, 100\n",
    "X = rng.normal(size=(n, m))"
   ]
  },
  {
   "cell_type": "code",
   "execution_count": 3,
   "id": "1b26032a",
   "metadata": {},
   "outputs": [
    {
     "data": {
      "text/plain": [
       "(20, 100)"
      ]
     },
     "execution_count": 3,
     "metadata": {},
     "output_type": "execute_result"
    }
   ],
   "source": [
    "X.shape"
   ]
  },
  {
   "cell_type": "markdown",
   "id": "98a83524",
   "metadata": {},
   "source": [
    "### (a)"
   ]
  },
  {
   "cell_type": "code",
   "execution_count": 4,
   "id": "bc409d02",
   "metadata": {},
   "outputs": [],
   "source": [
    "results = ttest_1samp(X, 0).pvalue"
   ]
  },
  {
   "cell_type": "code",
   "execution_count": 5,
   "id": "93e4943b",
   "metadata": {},
   "outputs": [
    {
     "data": {
      "text/plain": [
       "(100,)"
      ]
     },
     "execution_count": 5,
     "metadata": {},
     "output_type": "execute_result"
    }
   ],
   "source": [
    "results.shape"
   ]
  },
  {
   "cell_type": "code",
   "execution_count": 6,
   "id": "e0fa78df",
   "metadata": {},
   "outputs": [
    {
     "data": {
      "image/png": "[encoded data removed]",
      "text/plain": [
       "<Figure size 640x480 with 1 Axes>"
      ]
     },
     "metadata": {},
     "output_type": "display_data"
    }
   ],
   "source": [
    "kwargs = dict(histtype='bar', density=True, ec=\"k\")\n",
    "plt.hist(results,**kwargs)\n",
    "plt.title('Histogram of p-values')\n",
    "plt.xlabel('p-values')\n",
    "plt.ylabel('Count');"
   ]
  },
  {
   "cell_type": "markdown",
   "id": "24bf2fb9",
   "metadata": {},
   "source": [
    "The histogram show a relatively flat distribution. This stems from the fact that all null hypotheses are true.<br>\n",
    "It also invokes that controlling Type I error for each null hypothesis using a unified significance level, as prescribed in the following question, is a bad idea. "
   ]
  },
  {
   "cell_type": "markdown",
   "id": "60bb8452",
   "metadata": {},
   "source": [
    "### (b)"
   ]
  },
  {
   "cell_type": "code",
   "execution_count": 7,
   "id": "1777c19a",
   "metadata": {},
   "outputs": [
    {
     "data": {
      "text/plain": [
       "4"
      ]
     },
     "execution_count": 7,
     "metadata": {},
     "output_type": "execute_result"
    }
   ],
   "source": [
    "(results<0.05).sum()"
   ]
  },
  {
   "cell_type": "markdown",
   "id": "e71d97c5",
   "metadata": {},
   "source": [
    "We reject 4 null hypotheses."
   ]
  },
  {
   "cell_type": "markdown",
   "id": "84b0fbae",
   "metadata": {},
   "source": [
    "### (c)"
   ]
  },
  {
   "cell_type": "code",
   "execution_count": 8,
   "id": "7aaef697",
   "metadata": {},
   "outputs": [
    {
     "data": {
      "text/plain": [
       "array([False, False, False, False, False, False, False, False, False,\n",
       "       False, False, False, False, False, False, False, False, False,\n",
       "       False, False, False, False, False, False, False, False, False,\n",
       "       False, False, False, False, False, False, False, False, False,\n",
       "       False, False, False, False, False, False, False, False, False,\n",
       "       False, False, False, False, False, False, False, False, False,\n",
       "       False, False, False, False, False, False, False, False, False,\n",
       "       False, False, False, False, False, False, False, False, False,\n",
       "       False, False, False, False, False, False, False, False, False,\n",
       "       False, False, False, False, False, False, False, False, False,\n",
       "       False, False, False, False, False, False, False, False, False,\n",
       "       False])"
      ]
     },
     "execution_count": 8,
     "metadata": {},
     "output_type": "execute_result"
    }
   ],
   "source": [
    "reject, holm = mult_test(results, method = \"holm\")[:2]\n",
    "reject"
   ]
  },
  {
   "cell_type": "markdown",
   "id": "f02bc91c",
   "metadata": {},
   "source": [
    "By using Holm step down method, we have failed to reject all null hypotheses."
   ]
  },
  {
   "cell_type": "markdown",
   "id": "69a011c9",
   "metadata": {},
   "source": [
    "### (d)"
   ]
  },
  {
   "cell_type": "code",
   "execution_count": 9,
   "id": "f8d489ff",
   "metadata": {},
   "outputs": [
    {
     "data": {
      "text/plain": [
       "array([False, False, False, False, False, False, False, False, False,\n",
       "       False, False, False, False, False, False, False, False, False,\n",
       "       False, False, False, False, False, False, False, False, False,\n",
       "       False, False, False, False, False, False, False, False, False,\n",
       "       False, False, False, False, False, False, False, False, False,\n",
       "       False, False, False, False, False, False, False, False, False,\n",
       "       False, False, False, False, False, False, False, False, False,\n",
       "       False, False, False, False, False, False, False, False, False,\n",
       "       False, False, False, False, False, False, False, False, False,\n",
       "       False, False, False, False, False, False, False, False, False,\n",
       "       False, False, False, False, False, False, False, False, False,\n",
       "       False])"
      ]
     },
     "execution_count": 9,
     "metadata": {},
     "output_type": "execute_result"
    }
   ],
   "source": [
    "reject_fdr=mult_test(results, method = \"fdr_bh\")[0]\n",
    "reject_fdr"
   ]
  },
  {
   "cell_type": "markdown",
   "id": "d512ad7d",
   "metadata": {},
   "source": [
    "As the previous question, we have failed to reject all null hypotheses."
   ]
  },
  {
   "cell_type": "markdown",
   "id": "576417c5",
   "metadata": {},
   "source": [
    "### (e)"
   ]
  },
  {
   "cell_type": "code",
   "execution_count": 13,
   "id": "03f235af",
   "metadata": {},
   "outputs": [],
   "source": [
    "#Picking the 10 managers who perform well. We consider that performant managers are those whose \n",
    "# whose returns are not due to chance; i.e: those with the smallest p-values \n",
    "performance=[]\n",
    "for i in range(X.shape[1]):\n",
    "    performance.append((results[i].sum(),i))\n",
    "performance.sort(key=lambda x: x[0], reverse=False)"
   ]
  },
  {
   "cell_type": "code",
   "execution_count": 14,
   "id": "ddcee70c",
   "metadata": {},
   "outputs": [],
   "source": [
    "#Top 10 fund managers\n",
    "top_10=performance[:10]\n",
    "top_10_pvals=[]\n",
    "for i in range(10):\n",
    "    top_10_pvals.append(results[top_10[i][1]])"
   ]
  },
  {
   "cell_type": "code",
   "execution_count": 16,
   "id": "dcbed434",
   "metadata": {},
   "outputs": [
    {
     "data": {
      "text/plain": [
       "[(0.0008066133772248244, 14),\n",
       " (0.009551210237857455, 44),\n",
       " (0.022933282067325957, 39),\n",
       " (0.035539479614030645, 27),\n",
       " (0.05026563447042849, 72),\n",
       " (0.05388012638125132, 0),\n",
       " (0.06564566802881348, 50),\n",
       " (0.07550062589870506, 20),\n",
       " (0.07795962307812401, 9),\n",
       " (0.0879382731757003, 35)]"
      ]
     },
     "execution_count": 16,
     "metadata": {},
     "output_type": "execute_result"
    }
   ],
   "source": [
    "top_10"
   ]
  },
  {
   "cell_type": "code",
   "execution_count": 17,
   "id": "03da3ef6",
   "metadata": {},
   "outputs": [
    {
     "data": {
      "text/plain": [
       "(array([ True, False, False, False, False, False, False, False, False,\n",
       "        False]),\n",
       " array([0.00806613, 0.08596089, 0.18346626, 0.24877636, 0.30159381,\n",
       "        0.30159381, 0.30159381, 0.30159381, 0.30159381, 0.30159381]))"
      ]
     },
     "execution_count": 17,
     "metadata": {},
     "output_type": "execute_result"
    }
   ],
   "source": [
    "#Controlling FWER of the top 10 managers\n",
    "reject_cp= mult_test(top_10_pvals, method = \"holm\")[:2]\n",
    "reject_cp"
   ]
  },
  {
   "cell_type": "code",
   "execution_count": 18,
   "id": "18d6fd1d",
   "metadata": {},
   "outputs": [
    {
     "data": {
      "text/plain": [
       "(array([ True,  True, False, False, False, False, False, False, False,\n",
       "        False]),\n",
       " array([0.00806613, 0.04775605, 0.07644427, 0.0866218 , 0.0866218 ,\n",
       "        0.0866218 , 0.0866218 , 0.0866218 , 0.0866218 , 0.08793827]))"
      ]
     },
     "execution_count": 18,
     "metadata": {},
     "output_type": "execute_result"
    }
   ],
   "source": [
    "#Controlling FDR of the top 10 managers\n",
    "reject_cp_fdr= mult_test(top_10_pvals, method = \"fdr_bh\")[:2]\n",
    "reject_cp_fdr"
   ]
  },
  {
   "cell_type": "markdown",
   "id": "7676cdf4",
   "metadata": {},
   "source": [
    "We reject the null hypothesis corresponding to manager no 14 (Indexes start from 0 to 99), when controlling each of FWER and FDR."
   ]
  },
  {
   "cell_type": "markdown",
   "id": "65848154",
   "metadata": {},
   "source": [
    "### (f)"
   ]
  },
  {
   "cell_type": "markdown",
   "id": "86b24484",
   "metadata": {},
   "source": [
    "The approach of \"cherry-picking\" when controlling FDR or FWER is misleading.<br><br>\n",
    "This is because control algorithms (e.g: Holm's step down method or Benjamini-Hochberg) depend on the number of null hypotheses to determine the level of significance.<br><br>\n",
    "When we cherry-pick we tend to only show what we want, which is in fact a dangerous cognitive bias. For example, here we have falsely showed that the best performant manager owes his achieved returns only to chance."
   ]
  },
  {
   "cell_type": "code",
   "execution_count": null,
   "id": "f818b080",
   "metadata": {},
   "outputs": [],
   "source": []
  }
 ],
 "metadata": {
  "kernelspec": {
   "display_name": "Python 3 (ipykernel)",
   "language": "python",
   "name": "python3"
  },
  "language_info": {
   "codemirror_mode": {
    "name": "ipython",
    "version": 3
   },
   "file_extension": ".py",
   "mimetype": "text/x-python",
   "name": "python",
   "nbconvert_exporter": "python",
   "pygments_lexer": "ipython3",
   "version": "3.11.5"
  }
 },
 "nbformat": 4,
 "nbformat_minor": 5
}
