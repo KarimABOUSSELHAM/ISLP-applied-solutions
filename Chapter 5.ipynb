{
 "cells": [
  {
   "cell_type": "markdown",
   "id": "ed2facd6",
   "metadata": {},
   "source": [
    "# Chapter 5"
   ]
  },
  {
   "cell_type": "markdown",
   "id": "226d1833",
   "metadata": {},
   "source": [
    "## Exercise 5"
   ]
  },
  {
   "cell_type": "markdown",
   "id": "71a89d5a",
   "metadata": {},
   "source": [
    "### (a)"
   ]
  },
  {
   "cell_type": "code",
   "execution_count": 1,
   "id": "7ca53f0e",
   "metadata": {},
   "outputs": [],
   "source": [
    "import numpy as np\n",
    "import pandas as pd\n",
    "import matplotlib.pyplot as plt\n",
    "import statsmodels.api as sm\n",
    "from ISLP import load_data\n",
    "from ISLP.models import (ModelSpec as MS,\n",
    "                         summarize,\n",
    "                         poly)\n",
    "from sklearn.model_selection import train_test_split\n",
    "from functools import partial\n",
    "from sklearn.model_selection import \\\n",
    "     (cross_validate,\n",
    "      KFold,\n",
    "      ShuffleSplit)\n",
    "from sklearn.base import clone\n",
    "from ISLP.models import sklearn_sm\n",
    "from sklearn.linear_model import LogisticRegression\n",
    "from sklearn.metrics import confusion_matrix, accuracy_score\n",
    "import statsmodels.formula.api as smf "
   ]
  },
  {
   "cell_type": "code",
   "execution_count": 2,
   "id": "7ac69cdd",
   "metadata": {},
   "outputs": [],
   "source": [
    "np.random.seed(1)\n",
    "Default=load_data(\"Default\")"
   ]
  },
  {
   "cell_type": "code",
   "execution_count": 3,
   "id": "6c5a0bc6",
   "metadata": {},
   "outputs": [
    {
     "data": {
      "text/plain": [
       "0       No\n",
       "1       No\n",
       "2       No\n",
       "3       No\n",
       "4       No\n",
       "        ..\n",
       "9995    No\n",
       "9996    No\n",
       "9997    No\n",
       "9998    No\n",
       "9999    No\n",
       "Name: default, Length: 10000, dtype: object"
      ]
     },
     "execution_count": 3,
     "metadata": {},
     "output_type": "execute_result"
    }
   ],
   "source": [
    "Default.default"
   ]
  },
  {
   "cell_type": "code",
   "execution_count": 4,
   "id": "ee257fde",
   "metadata": {},
   "outputs": [
    {
     "data": {
      "text/html": [
       "<table class=\"simpletable\">\n",
       "<caption>Generalized Linear Model Regression Results</caption>\n",
       "<tr>\n",
       "  <th>Dep. Variable:</th>        <td>default</td>     <th>  No. Observations:  </th>  <td> 10000</td> \n",
       "</tr>\n",
       "<tr>\n",
       "  <th>Model:</th>                  <td>GLM</td>       <th>  Df Residuals:      </th>  <td>  9997</td> \n",
       "</tr>\n",
       "<tr>\n",
       "  <th>Model Family:</th>        <td>Binomial</td>     <th>  Df Model:          </th>  <td>     2</td> \n",
       "</tr>\n",
       "<tr>\n",
       "  <th>Link Function:</th>         <td>Logit</td>      <th>  Scale:             </th> <td>  1.0000</td>\n",
       "</tr>\n",
       "<tr>\n",
       "  <th>Method:</th>                <td>IRLS</td>       <th>  Log-Likelihood:    </th> <td> -789.48</td>\n",
       "</tr>\n",
       "<tr>\n",
       "  <th>Date:</th>            <td>Mon, 11 Sep 2023</td> <th>  Deviance:          </th> <td>  1579.0</td>\n",
       "</tr>\n",
       "<tr>\n",
       "  <th>Time:</th>                <td>18:10:52</td>     <th>  Pearson chi2:      </th> <td>6.95e+03</td>\n",
       "</tr>\n",
       "<tr>\n",
       "  <th>No. Iterations:</th>          <td>9</td>        <th>  Pseudo R-squ. (CS):</th>  <td>0.1256</td> \n",
       "</tr>\n",
       "<tr>\n",
       "  <th>Covariance Type:</th>     <td>nonrobust</td>    <th>                     </th>     <td> </td>   \n",
       "</tr>\n",
       "</table>\n",
       "<table class=\"simpletable\">\n",
       "<tr>\n",
       "      <td></td>         <th>coef</th>     <th>std err</th>      <th>z</th>      <th>P>|z|</th>  <th>[0.025</th>    <th>0.975]</th>  \n",
       "</tr>\n",
       "<tr>\n",
       "  <th>intercept</th> <td>  -11.5405</td> <td>    0.435</td> <td>  -26.544</td> <td> 0.000</td> <td>  -12.393</td> <td>  -10.688</td>\n",
       "</tr>\n",
       "<tr>\n",
       "  <th>balance</th>   <td>    0.0056</td> <td>    0.000</td> <td>   24.835</td> <td> 0.000</td> <td>    0.005</td> <td>    0.006</td>\n",
       "</tr>\n",
       "<tr>\n",
       "  <th>income</th>    <td> 2.081e-05</td> <td> 4.99e-06</td> <td>    4.174</td> <td> 0.000</td> <td>  1.1e-05</td> <td> 3.06e-05</td>\n",
       "</tr>\n",
       "</table>"
      ],
      "text/plain": [
       "<class 'statsmodels.iolib.summary.Summary'>\n",
       "\"\"\"\n",
       "                 Generalized Linear Model Regression Results                  \n",
       "==============================================================================\n",
       "Dep. Variable:                default   No. Observations:                10000\n",
       "Model:                            GLM   Df Residuals:                     9997\n",
       "Model Family:                Binomial   Df Model:                            2\n",
       "Link Function:                  Logit   Scale:                          1.0000\n",
       "Method:                          IRLS   Log-Likelihood:                -789.48\n",
       "Date:                Mon, 11 Sep 2023   Deviance:                       1579.0\n",
       "Time:                        18:10:52   Pearson chi2:                 6.95e+03\n",
       "No. Iterations:                     9   Pseudo R-squ. (CS):             0.1256\n",
       "Covariance Type:            nonrobust                                         \n",
       "==============================================================================\n",
       "                 coef    std err          z      P>|z|      [0.025      0.975]\n",
       "------------------------------------------------------------------------------\n",
       "intercept    -11.5405      0.435    -26.544      0.000     -12.393     -10.688\n",
       "balance        0.0056      0.000     24.835      0.000       0.005       0.006\n",
       "income      2.081e-05   4.99e-06      4.174      0.000     1.1e-05    3.06e-05\n",
       "==============================================================================\n",
       "\"\"\""
      ]
     },
     "execution_count": 4,
     "metadata": {},
     "output_type": "execute_result"
    }
   ],
   "source": [
    "allvars = Default.columns.drop(['default','student'])\n",
    "design=MS(allvars)\n",
    "X=design.fit_transform(Default)\n",
    "y=Default.default=='Yes'\n",
    "glm=sm.GLM(y,X,family=sm.families.Binomial())\n",
    "res=glm.fit()\n",
    "res.summary()"
   ]
  },
  {
   "cell_type": "markdown",
   "id": "f854de41",
   "metadata": {},
   "source": [
    "### (b)"
   ]
  },
  {
   "cell_type": "markdown",
   "id": "5ce81c01",
   "metadata": {},
   "source": [
    "#### (i) "
   ]
  },
  {
   "cell_type": "code",
   "execution_count": 5,
   "id": "0e3492eb",
   "metadata": {},
   "outputs": [
    {
     "data": {
      "text/html": [
       "<div>\n",
       "<style scoped>\n",
       "    .dataframe tbody tr th:only-of-type {\n",
       "        vertical-align: middle;\n",
       "    }\n",
       "\n",
       "    .dataframe tbody tr th {\n",
       "        vertical-align: top;\n",
       "    }\n",
       "\n",
       "    .dataframe thead th {\n",
       "        text-align: right;\n",
       "    }\n",
       "</style>\n",
       "<table border=\"1\" class=\"dataframe\">\n",
       "  <thead>\n",
       "    <tr style=\"text-align: right;\">\n",
       "      <th></th>\n",
       "      <th>default</th>\n",
       "      <th>student</th>\n",
       "      <th>balance</th>\n",
       "      <th>income</th>\n",
       "    </tr>\n",
       "  </thead>\n",
       "  <tbody>\n",
       "    <tr>\n",
       "      <th>9394</th>\n",
       "      <td>No</td>\n",
       "      <td>Yes</td>\n",
       "      <td>0.000000</td>\n",
       "      <td>13911.441282</td>\n",
       "    </tr>\n",
       "    <tr>\n",
       "      <th>898</th>\n",
       "      <td>No</td>\n",
       "      <td>No</td>\n",
       "      <td>396.985985</td>\n",
       "      <td>55454.631040</td>\n",
       "    </tr>\n",
       "    <tr>\n",
       "      <th>2398</th>\n",
       "      <td>No</td>\n",
       "      <td>No</td>\n",
       "      <td>1046.416673</td>\n",
       "      <td>47598.307369</td>\n",
       "    </tr>\n",
       "    <tr>\n",
       "      <th>5906</th>\n",
       "      <td>No</td>\n",
       "      <td>No</td>\n",
       "      <td>836.343137</td>\n",
       "      <td>34559.158405</td>\n",
       "    </tr>\n",
       "    <tr>\n",
       "      <th>2343</th>\n",
       "      <td>No</td>\n",
       "      <td>Yes</td>\n",
       "      <td>534.692907</td>\n",
       "      <td>18729.566240</td>\n",
       "    </tr>\n",
       "    <tr>\n",
       "      <th>...</th>\n",
       "      <td>...</td>\n",
       "      <td>...</td>\n",
       "      <td>...</td>\n",
       "      <td>...</td>\n",
       "    </tr>\n",
       "    <tr>\n",
       "      <th>3996</th>\n",
       "      <td>No</td>\n",
       "      <td>No</td>\n",
       "      <td>794.176213</td>\n",
       "      <td>43335.985041</td>\n",
       "    </tr>\n",
       "    <tr>\n",
       "      <th>5889</th>\n",
       "      <td>No</td>\n",
       "      <td>No</td>\n",
       "      <td>81.531865</td>\n",
       "      <td>40847.811311</td>\n",
       "    </tr>\n",
       "    <tr>\n",
       "      <th>4577</th>\n",
       "      <td>No</td>\n",
       "      <td>No</td>\n",
       "      <td>1137.791157</td>\n",
       "      <td>21103.429621</td>\n",
       "    </tr>\n",
       "    <tr>\n",
       "      <th>8600</th>\n",
       "      <td>No</td>\n",
       "      <td>No</td>\n",
       "      <td>646.081240</td>\n",
       "      <td>36686.959447</td>\n",
       "    </tr>\n",
       "    <tr>\n",
       "      <th>847</th>\n",
       "      <td>No</td>\n",
       "      <td>No</td>\n",
       "      <td>388.548350</td>\n",
       "      <td>18007.832960</td>\n",
       "    </tr>\n",
       "  </tbody>\n",
       "</table>\n",
       "<p>5000 rows × 4 columns</p>\n",
       "</div>"
      ],
      "text/plain": [
       "     default student      balance        income\n",
       "9394      No     Yes     0.000000  13911.441282\n",
       "898       No      No   396.985985  55454.631040\n",
       "2398      No      No  1046.416673  47598.307369\n",
       "5906      No      No   836.343137  34559.158405\n",
       "2343      No     Yes   534.692907  18729.566240\n",
       "...      ...     ...          ...           ...\n",
       "3996      No      No   794.176213  43335.985041\n",
       "5889      No      No    81.531865  40847.811311\n",
       "4577      No      No  1137.791157  21103.429621\n",
       "8600      No      No   646.081240  36686.959447\n",
       "847       No      No   388.548350  18007.832960\n",
       "\n",
       "[5000 rows x 4 columns]"
      ]
     },
     "execution_count": 5,
     "metadata": {},
     "output_type": "execute_result"
    }
   ],
   "source": [
    "Default_train, Default_valid = train_test_split(Default, test_size=5000, random_state=0)\n",
    "Default_valid"
   ]
  },
  {
   "cell_type": "markdown",
   "id": "946f6a94",
   "metadata": {},
   "source": [
    "#### (ii) "
   ]
  },
  {
   "cell_type": "code",
   "execution_count": 6,
   "id": "6b660a23",
   "metadata": {},
   "outputs": [
    {
     "data": {
      "text/html": [
       "<table class=\"simpletable\">\n",
       "<caption>Generalized Linear Model Regression Results</caption>\n",
       "<tr>\n",
       "  <th>Dep. Variable:</th>        <td>default</td>     <th>  No. Observations:  </th>  <td>  5000</td> \n",
       "</tr>\n",
       "<tr>\n",
       "  <th>Model:</th>                  <td>GLM</td>       <th>  Df Residuals:      </th>  <td>  4997</td> \n",
       "</tr>\n",
       "<tr>\n",
       "  <th>Model Family:</th>        <td>Binomial</td>     <th>  Df Model:          </th>  <td>     2</td> \n",
       "</tr>\n",
       "<tr>\n",
       "  <th>Link Function:</th>         <td>Logit</td>      <th>  Scale:             </th> <td>  1.0000</td>\n",
       "</tr>\n",
       "<tr>\n",
       "  <th>Method:</th>                <td>IRLS</td>       <th>  Log-Likelihood:    </th> <td> -364.78</td>\n",
       "</tr>\n",
       "<tr>\n",
       "  <th>Date:</th>            <td>Mon, 11 Sep 2023</td> <th>  Deviance:          </th> <td>  729.56</td>\n",
       "</tr>\n",
       "<tr>\n",
       "  <th>Time:</th>                <td>18:10:52</td>     <th>  Pearson chi2:      </th> <td>2.57e+03</td>\n",
       "</tr>\n",
       "<tr>\n",
       "  <th>No. Iterations:</th>          <td>9</td>        <th>  Pseudo R-squ. (CS):</th>  <td>0.1125</td> \n",
       "</tr>\n",
       "<tr>\n",
       "  <th>Covariance Type:</th>     <td>nonrobust</td>    <th>                     </th>     <td> </td>   \n",
       "</tr>\n",
       "</table>\n",
       "<table class=\"simpletable\">\n",
       "<tr>\n",
       "      <td></td>         <th>coef</th>     <th>std err</th>      <th>z</th>      <th>P>|z|</th>  <th>[0.025</th>    <th>0.975]</th>  \n",
       "</tr>\n",
       "<tr>\n",
       "  <th>intercept</th> <td>  -11.3896</td> <td>    0.635</td> <td>  -17.935</td> <td> 0.000</td> <td>  -12.634</td> <td>  -10.145</td>\n",
       "</tr>\n",
       "<tr>\n",
       "  <th>balance</th>   <td>    0.0056</td> <td>    0.000</td> <td>   16.792</td> <td> 0.000</td> <td>    0.005</td> <td>    0.006</td>\n",
       "</tr>\n",
       "<tr>\n",
       "  <th>income</th>    <td>  1.58e-05</td> <td> 7.34e-06</td> <td>    2.151</td> <td> 0.031</td> <td>  1.4e-06</td> <td> 3.02e-05</td>\n",
       "</tr>\n",
       "</table>"
      ],
      "text/plain": [
       "<class 'statsmodels.iolib.summary.Summary'>\n",
       "\"\"\"\n",
       "                 Generalized Linear Model Regression Results                  \n",
       "==============================================================================\n",
       "Dep. Variable:                default   No. Observations:                 5000\n",
       "Model:                            GLM   Df Residuals:                     4997\n",
       "Model Family:                Binomial   Df Model:                            2\n",
       "Link Function:                  Logit   Scale:                          1.0000\n",
       "Method:                          IRLS   Log-Likelihood:                -364.78\n",
       "Date:                Mon, 11 Sep 2023   Deviance:                       729.56\n",
       "Time:                        18:10:52   Pearson chi2:                 2.57e+03\n",
       "No. Iterations:                     9   Pseudo R-squ. (CS):             0.1125\n",
       "Covariance Type:            nonrobust                                         \n",
       "==============================================================================\n",
       "                 coef    std err          z      P>|z|      [0.025      0.975]\n",
       "------------------------------------------------------------------------------\n",
       "intercept    -11.3896      0.635    -17.935      0.000     -12.634     -10.145\n",
       "balance        0.0056      0.000     16.792      0.000       0.005       0.006\n",
       "income       1.58e-05   7.34e-06      2.151      0.031     1.4e-06    3.02e-05\n",
       "==============================================================================\n",
       "\"\"\""
      ]
     },
     "execution_count": 6,
     "metadata": {},
     "output_type": "execute_result"
    }
   ],
   "source": [
    "allvars_train = Default_train.columns.drop(['default','student'])\n",
    "design_train=MS(allvars_train)\n",
    "X_train=design_train.fit_transform(Default_train)\n",
    "y_train=Default_train.default=='Yes'\n",
    "glm=sm.GLM(y_train,X_train,family=sm.families.Binomial())\n",
    "res=glm.fit()\n",
    "res.summary()"
   ]
  },
  {
   "cell_type": "markdown",
   "id": "5e08be31",
   "metadata": {},
   "source": [
    "#### (iii)"
   ]
  },
  {
   "cell_type": "code",
   "execution_count": 7,
   "id": "55371cfc",
   "metadata": {},
   "outputs": [],
   "source": [
    "X_valid=design_train.transform(Default_valid)\n",
    "valid_pred = res.predict(X_valid)\n",
    "labels=np.array(['No']*5000)\n",
    "labels[valid_pred>0.5]='Yes'"
   ]
  },
  {
   "cell_type": "markdown",
   "id": "072b5955",
   "metadata": {},
   "source": [
    "#### (iv)"
   ]
  },
  {
   "cell_type": "code",
   "execution_count": 8,
   "id": "a6fbb08c",
   "metadata": {},
   "outputs": [
    {
     "data": {
      "text/plain": [
       "0.03979999999999995"
      ]
     },
     "execution_count": 8,
     "metadata": {},
     "output_type": "execute_result"
    }
   ],
   "source": [
    "y_valid = Default_valid['default']\n",
    "1-accuracy_score(y_valid, labels)"
   ]
  },
  {
   "cell_type": "markdown",
   "id": "8d469894",
   "metadata": {},
   "source": [
    "## Exercise 6"
   ]
  },
  {
   "cell_type": "markdown",
   "id": "dfc7811a",
   "metadata": {},
   "source": [
    "### (a)"
   ]
  },
  {
   "cell_type": "code",
   "execution_count": 9,
   "id": "982ea4c8",
   "metadata": {},
   "outputs": [],
   "source": [
    "#We should add a column of dummy variables related to 'default' because without this manipulation\n",
    "#GLM used hereafter won't succed in converting categorical variables into dummy ones.\n",
    "Default['default_yes'] = (Default['default'] == 'Yes').astype('int')"
   ]
  },
  {
   "cell_type": "code",
   "execution_count": 10,
   "id": "33022df1",
   "metadata": {},
   "outputs": [
    {
     "data": {
      "text/html": [
       "<div>\n",
       "<style scoped>\n",
       "    .dataframe tbody tr th:only-of-type {\n",
       "        vertical-align: middle;\n",
       "    }\n",
       "\n",
       "    .dataframe tbody tr th {\n",
       "        vertical-align: top;\n",
       "    }\n",
       "\n",
       "    .dataframe thead th {\n",
       "        text-align: right;\n",
       "    }\n",
       "</style>\n",
       "<table border=\"1\" class=\"dataframe\">\n",
       "  <thead>\n",
       "    <tr style=\"text-align: right;\">\n",
       "      <th></th>\n",
       "      <th>coef</th>\n",
       "      <th>std err</th>\n",
       "      <th>z</th>\n",
       "      <th>P&gt;|z|</th>\n",
       "    </tr>\n",
       "  </thead>\n",
       "  <tbody>\n",
       "    <tr>\n",
       "      <th>intercept</th>\n",
       "      <td>-11.540500</td>\n",
       "      <td>0.435000</td>\n",
       "      <td>-26.544</td>\n",
       "      <td>0.0</td>\n",
       "    </tr>\n",
       "    <tr>\n",
       "      <th>balance</th>\n",
       "      <td>0.005600</td>\n",
       "      <td>0.000000</td>\n",
       "      <td>24.835</td>\n",
       "      <td>0.0</td>\n",
       "    </tr>\n",
       "    <tr>\n",
       "      <th>income</th>\n",
       "      <td>0.000021</td>\n",
       "      <td>0.000005</td>\n",
       "      <td>4.174</td>\n",
       "      <td>0.0</td>\n",
       "    </tr>\n",
       "  </tbody>\n",
       "</table>\n",
       "</div>"
      ],
      "text/plain": [
       "                coef   std err       z  P>|z|\n",
       "intercept -11.540500  0.435000 -26.544    0.0\n",
       "balance     0.005600  0.000000  24.835    0.0\n",
       "income      0.000021  0.000005   4.174    0.0"
      ]
     },
     "execution_count": 10,
     "metadata": {},
     "output_type": "execute_result"
    }
   ],
   "source": [
    "allvars=Default.columns.drop(['default','student','default_yes'])\n",
    "design=MS(allvars)\n",
    "X=design.fit_transform(Default)\n",
    "y=Default.default=='Yes'\n",
    "model=sm.GLM(y,X,family=sm.families.Binomial())\n",
    "result=model.fit()\n",
    "summarize(result)"
   ]
  },
  {
   "cell_type": "code",
   "execution_count": 11,
   "id": "caf2d4c4",
   "metadata": {},
   "outputs": [
    {
     "data": {
      "text/plain": [
       "intercept    0.434772\n",
       "balance      0.000227\n",
       "income       0.000005\n",
       "dtype: float64"
      ]
     },
     "execution_count": 11,
     "metadata": {},
     "output_type": "execute_result"
    }
   ],
   "source": [
    "result.bse#Generating the standard errors ofthe coefficients"
   ]
  },
  {
   "cell_type": "markdown",
   "id": "e87bc73b",
   "metadata": {},
   "source": [
    "### (b)"
   ]
  },
  {
   "cell_type": "code",
   "execution_count": 12,
   "id": "90011fe2",
   "metadata": {},
   "outputs": [],
   "source": [
    "def boot_SE(func,D,n=None,B=1000,seed=0):\n",
    "    rng = np.random.default_rng(seed)\n",
    "    first_, second_ = 0, 0\n",
    "    n = n or D.shape[0]\n",
    "    for _ in range(B):\n",
    "        idx = rng.choice(D.index,n,replace=True)\n",
    "        value = func(D,idx)\n",
    "        first_ += value\n",
    "        second_ += value**2\n",
    "    return np.sqrt(second_ / B - (first_ / B)**2)\n",
    "def boot_fn(model_matrix,response,D,idx):\n",
    "    D_=D.loc[idx]\n",
    "    y=D_[response]\n",
    "    X=clone(model_matrix).fit_transform(D_)\n",
    "    model=sm.GLM(y,X,family=sm.families.Binomial())\n",
    "    result=model.fit()\n",
    "    coef_income=result.params[1]\n",
    "    coef_balance=result.params[2]\n",
    "    return result.params"
   ]
  },
  {
   "cell_type": "markdown",
   "id": "0c4609af",
   "metadata": {},
   "source": [
    "### (c)"
   ]
  },
  {
   "cell_type": "code",
   "execution_count": 13,
   "id": "f67408ad",
   "metadata": {},
   "outputs": [
    {
     "data": {
      "text/plain": [
       "array([[-1.37418699e+01,  4.46108654e-05,  6.54456450e-03],\n",
       "       [-9.73343593e+00,  1.29161125e-05,  4.36172555e-03],\n",
       "       [-1.09652934e+01,  6.88991070e-06,  5.60127348e-03],\n",
       "       [-1.29994735e+01,  5.80207964e-05,  5.99463447e-03],\n",
       "       [-1.76482871e+01,  3.85717484e-05,  8.94706073e-03],\n",
       "       [-1.37799054e+01,  7.20354708e-05,  5.64428958e-03],\n",
       "       [-1.00286504e+01,  1.25804073e-05,  5.16837631e-03],\n",
       "       [-1.36627122e+01,  3.52359713e-05,  6.88246994e-03],\n",
       "       [-1.30954565e+01,  8.56134990e-06,  7.38734450e-03],\n",
       "       [-1.41538872e+01,  3.45878793e-05,  7.22152035e-03]])"
      ]
     },
     "execution_count": 13,
     "metadata": {},
     "output_type": "execute_result"
    }
   ],
   "source": [
    "hp_func=partial(boot_fn,MS(['income','balance']),'default_yes')\n",
    "#Below is a test for hp_func instantiation\n",
    "rng = np.random.default_rng(0)\n",
    "np.array([hp_func(Default,\n",
    "          rng.choice(392,\n",
    "                     392,\n",
    "                     replace=True)) for _ in range(10)])"
   ]
  },
  {
   "cell_type": "code",
   "execution_count": 14,
   "id": "c338caa3",
   "metadata": {},
   "outputs": [
    {
     "data": {
      "text/plain": [
       "intercept    0.425280\n",
       "income       0.000005\n",
       "balance      0.000227\n",
       "dtype: float64"
      ]
     },
     "execution_count": 14,
     "metadata": {},
     "output_type": "execute_result"
    }
   ],
   "source": [
    "boot_SE(hp_func,Default,B=1000,seed=10)"
   ]
  },
  {
   "cell_type": "markdown",
   "id": "0f1fd9ae",
   "metadata": {},
   "source": [
    "### (d)"
   ]
  },
  {
   "cell_type": "markdown",
   "id": "ab58f5ff",
   "metadata": {},
   "source": [
    "Clearly we obtain approximate values by both methods."
   ]
  },
  {
   "cell_type": "markdown",
   "id": "4b274aba",
   "metadata": {},
   "source": [
    "## Exercise 7"
   ]
  },
  {
   "cell_type": "markdown",
   "id": "01a4a61e",
   "metadata": {},
   "source": [
    "### (a)"
   ]
  },
  {
   "cell_type": "code",
   "execution_count": 15,
   "id": "3b8b9772",
   "metadata": {},
   "outputs": [],
   "source": [
    "Weekly=load_data('Weekly')"
   ]
  },
  {
   "cell_type": "code",
   "execution_count": 16,
   "id": "28f5bb42",
   "metadata": {},
   "outputs": [
    {
     "data": {
      "text/html": [
       "<div>\n",
       "<style scoped>\n",
       "    .dataframe tbody tr th:only-of-type {\n",
       "        vertical-align: middle;\n",
       "    }\n",
       "\n",
       "    .dataframe tbody tr th {\n",
       "        vertical-align: top;\n",
       "    }\n",
       "\n",
       "    .dataframe thead th {\n",
       "        text-align: right;\n",
       "    }\n",
       "</style>\n",
       "<table border=\"1\" class=\"dataframe\">\n",
       "  <thead>\n",
       "    <tr style=\"text-align: right;\">\n",
       "      <th></th>\n",
       "      <th>Year</th>\n",
       "      <th>Lag1</th>\n",
       "      <th>Lag2</th>\n",
       "      <th>Lag3</th>\n",
       "      <th>Lag4</th>\n",
       "      <th>Lag5</th>\n",
       "      <th>Volume</th>\n",
       "      <th>Today</th>\n",
       "      <th>Direction</th>\n",
       "    </tr>\n",
       "  </thead>\n",
       "  <tbody>\n",
       "    <tr>\n",
       "      <th>0</th>\n",
       "      <td>1990</td>\n",
       "      <td>0.816</td>\n",
       "      <td>1.572</td>\n",
       "      <td>-3.936</td>\n",
       "      <td>-0.229</td>\n",
       "      <td>-3.484</td>\n",
       "      <td>0.154976</td>\n",
       "      <td>-0.270</td>\n",
       "      <td>Down</td>\n",
       "    </tr>\n",
       "    <tr>\n",
       "      <th>1</th>\n",
       "      <td>1990</td>\n",
       "      <td>-0.270</td>\n",
       "      <td>0.816</td>\n",
       "      <td>1.572</td>\n",
       "      <td>-3.936</td>\n",
       "      <td>-0.229</td>\n",
       "      <td>0.148574</td>\n",
       "      <td>-2.576</td>\n",
       "      <td>Down</td>\n",
       "    </tr>\n",
       "    <tr>\n",
       "      <th>2</th>\n",
       "      <td>1990</td>\n",
       "      <td>-2.576</td>\n",
       "      <td>-0.270</td>\n",
       "      <td>0.816</td>\n",
       "      <td>1.572</td>\n",
       "      <td>-3.936</td>\n",
       "      <td>0.159837</td>\n",
       "      <td>3.514</td>\n",
       "      <td>Up</td>\n",
       "    </tr>\n",
       "    <tr>\n",
       "      <th>3</th>\n",
       "      <td>1990</td>\n",
       "      <td>3.514</td>\n",
       "      <td>-2.576</td>\n",
       "      <td>-0.270</td>\n",
       "      <td>0.816</td>\n",
       "      <td>1.572</td>\n",
       "      <td>0.161630</td>\n",
       "      <td>0.712</td>\n",
       "      <td>Up</td>\n",
       "    </tr>\n",
       "    <tr>\n",
       "      <th>4</th>\n",
       "      <td>1990</td>\n",
       "      <td>0.712</td>\n",
       "      <td>3.514</td>\n",
       "      <td>-2.576</td>\n",
       "      <td>-0.270</td>\n",
       "      <td>0.816</td>\n",
       "      <td>0.153728</td>\n",
       "      <td>1.178</td>\n",
       "      <td>Up</td>\n",
       "    </tr>\n",
       "  </tbody>\n",
       "</table>\n",
       "</div>"
      ],
      "text/plain": [
       "   Year   Lag1   Lag2   Lag3   Lag4   Lag5    Volume  Today Direction\n",
       "0  1990  0.816  1.572 -3.936 -0.229 -3.484  0.154976 -0.270      Down\n",
       "1  1990 -0.270  0.816  1.572 -3.936 -0.229  0.148574 -2.576      Down\n",
       "2  1990 -2.576 -0.270  0.816  1.572 -3.936  0.159837  3.514        Up\n",
       "3  1990  3.514 -2.576 -0.270  0.816  1.572  0.161630  0.712        Up\n",
       "4  1990  0.712  3.514 -2.576 -0.270  0.816  0.153728  1.178        Up"
      ]
     },
     "execution_count": 16,
     "metadata": {},
     "output_type": "execute_result"
    }
   ],
   "source": [
    "Weekly.head()"
   ]
  },
  {
   "cell_type": "code",
   "execution_count": 17,
   "id": "80626c70",
   "metadata": {},
   "outputs": [
    {
     "name": "stdout",
     "output_type": "stream",
     "text": [
      "<class 'pandas.core.frame.DataFrame'>\n",
      "RangeIndex: 1089 entries, 0 to 1088\n",
      "Data columns (total 9 columns):\n",
      " #   Column     Non-Null Count  Dtype  \n",
      "---  ------     --------------  -----  \n",
      " 0   Year       1089 non-null   int64  \n",
      " 1   Lag1       1089 non-null   float64\n",
      " 2   Lag2       1089 non-null   float64\n",
      " 3   Lag3       1089 non-null   float64\n",
      " 4   Lag4       1089 non-null   float64\n",
      " 5   Lag5       1089 non-null   float64\n",
      " 6   Volume     1089 non-null   float64\n",
      " 7   Today      1089 non-null   float64\n",
      " 8   Direction  1089 non-null   object \n",
      "dtypes: float64(7), int64(1), object(1)\n",
      "memory usage: 76.7+ KB\n"
     ]
    }
   ],
   "source": [
    "Weekly.info()"
   ]
  },
  {
   "cell_type": "code",
   "execution_count": 18,
   "id": "b66b9cfb",
   "metadata": {},
   "outputs": [
    {
     "data": {
      "text/html": [
       "<div>\n",
       "<style scoped>\n",
       "    .dataframe tbody tr th:only-of-type {\n",
       "        vertical-align: middle;\n",
       "    }\n",
       "\n",
       "    .dataframe tbody tr th {\n",
       "        vertical-align: top;\n",
       "    }\n",
       "\n",
       "    .dataframe thead th {\n",
       "        text-align: right;\n",
       "    }\n",
       "</style>\n",
       "<table border=\"1\" class=\"dataframe\">\n",
       "  <thead>\n",
       "    <tr style=\"text-align: right;\">\n",
       "      <th></th>\n",
       "      <th>coef</th>\n",
       "      <th>std err</th>\n",
       "      <th>z</th>\n",
       "      <th>P&gt;|z|</th>\n",
       "    </tr>\n",
       "  </thead>\n",
       "  <tbody>\n",
       "    <tr>\n",
       "      <th>intercept</th>\n",
       "      <td>0.2212</td>\n",
       "      <td>0.061</td>\n",
       "      <td>3.599</td>\n",
       "      <td>0.000</td>\n",
       "    </tr>\n",
       "    <tr>\n",
       "      <th>Lag1</th>\n",
       "      <td>-0.0387</td>\n",
       "      <td>0.026</td>\n",
       "      <td>-1.477</td>\n",
       "      <td>0.140</td>\n",
       "    </tr>\n",
       "    <tr>\n",
       "      <th>Lag2</th>\n",
       "      <td>0.0602</td>\n",
       "      <td>0.027</td>\n",
       "      <td>2.270</td>\n",
       "      <td>0.023</td>\n",
       "    </tr>\n",
       "  </tbody>\n",
       "</table>\n",
       "</div>"
      ],
      "text/plain": [
       "             coef  std err      z  P>|z|\n",
       "intercept  0.2212    0.061  3.599  0.000\n",
       "Lag1      -0.0387    0.026 -1.477  0.140\n",
       "Lag2       0.0602    0.027  2.270  0.023"
      ]
     },
     "execution_count": 18,
     "metadata": {},
     "output_type": "execute_result"
    }
   ],
   "source": [
    "#Fitting a logistic regression of Lag1 and Lag2 as exog and Direction as endog\n",
    "allvars=Weekly.columns.drop(['Direction','Year','Volume','Today','Lag3','Lag4','Lag5'])\n",
    "design=MS(allvars)\n",
    "X=design.fit_transform(Weekly)\n",
    "y=Weekly.Direction=='Up'\n",
    "model=sm.GLM(y,X,family=sm.families.Binomial())\n",
    "result=model.fit()\n",
    "summarize(result)"
   ]
  },
  {
   "cell_type": "markdown",
   "id": "d3f443af",
   "metadata": {},
   "source": [
    "### (b)"
   ]
  },
  {
   "cell_type": "code",
   "execution_count": 19,
   "id": "65c4fa21",
   "metadata": {},
   "outputs": [
    {
     "data": {
      "text/html": [
       "<div>\n",
       "<style scoped>\n",
       "    .dataframe tbody tr th:only-of-type {\n",
       "        vertical-align: middle;\n",
       "    }\n",
       "\n",
       "    .dataframe tbody tr th {\n",
       "        vertical-align: top;\n",
       "    }\n",
       "\n",
       "    .dataframe thead th {\n",
       "        text-align: right;\n",
       "    }\n",
       "</style>\n",
       "<table border=\"1\" class=\"dataframe\">\n",
       "  <thead>\n",
       "    <tr style=\"text-align: right;\">\n",
       "      <th></th>\n",
       "      <th>coef</th>\n",
       "      <th>std err</th>\n",
       "      <th>z</th>\n",
       "      <th>P&gt;|z|</th>\n",
       "    </tr>\n",
       "  </thead>\n",
       "  <tbody>\n",
       "    <tr>\n",
       "      <th>intercept</th>\n",
       "      <td>0.2232</td>\n",
       "      <td>0.061</td>\n",
       "      <td>3.630</td>\n",
       "      <td>0.000</td>\n",
       "    </tr>\n",
       "    <tr>\n",
       "      <th>Lag1</th>\n",
       "      <td>-0.0384</td>\n",
       "      <td>0.026</td>\n",
       "      <td>-1.466</td>\n",
       "      <td>0.143</td>\n",
       "    </tr>\n",
       "    <tr>\n",
       "      <th>Lag2</th>\n",
       "      <td>0.0608</td>\n",
       "      <td>0.027</td>\n",
       "      <td>2.291</td>\n",
       "      <td>0.022</td>\n",
       "    </tr>\n",
       "  </tbody>\n",
       "</table>\n",
       "</div>"
      ],
      "text/plain": [
       "             coef  std err      z  P>|z|\n",
       "intercept  0.2232    0.061  3.630  0.000\n",
       "Lag1      -0.0384    0.026 -1.466  0.143\n",
       "Lag2       0.0608    0.027  2.291  0.022"
      ]
     },
     "execution_count": 19,
     "metadata": {},
     "output_type": "execute_result"
    }
   ],
   "source": [
    "model_1=sm.GLM(y.iloc[1:],X.iloc[1:],family=sm.families.Binomial())\n",
    "result_1=model_1.fit()\n",
    "summarize(result_1)"
   ]
  },
  {
   "cell_type": "markdown",
   "id": "10cb8b22",
   "metadata": {},
   "source": [
    "### (c)"
   ]
  },
  {
   "cell_type": "code",
   "execution_count": 20,
   "id": "3c46a189",
   "metadata": {},
   "outputs": [
    {
     "data": {
      "text/plain": [
       "array(['Up'], dtype='<U4')"
      ]
     },
     "execution_count": 20,
     "metadata": {},
     "output_type": "execute_result"
    }
   ],
   "source": [
    "probs = result_1.predict([X.iloc[0]])\n",
    "labels = np.array(['Down']*1)\n",
    "labels[probs>0.5] = \"Up\"\n",
    "labels"
   ]
  },
  {
   "cell_type": "markdown",
   "id": "07485ed1",
   "metadata": {},
   "source": [
    "### (d)"
   ]
  },
  {
   "cell_type": "code",
   "execution_count": 21,
   "id": "c78722c4",
   "metadata": {},
   "outputs": [],
   "source": [
    "n=len(Weekly)\n",
    "errors=np.zeros(n)\n",
    "for i in range(n):\n",
    "    x_train=X.drop([i])\n",
    "    y_train=y.drop([i])\n",
    "    model_i=sm.GLM(y_train,x_train,family=sm.families.Binomial()).fit()\n",
    "    x_test=X.iloc[i]\n",
    "    pred=model_i.predict([x_test])\n",
    "    labels = np.array(['Down']*1)\n",
    "    labels[pred>0.5] = \"Up\"\n",
    "    if labels[0]!=Weekly.Direction[i]:\n",
    "        errors[i]=1"
   ]
  },
  {
   "cell_type": "markdown",
   "id": "c4ab14c4",
   "metadata": {},
   "source": [
    "### (e)"
   ]
  },
  {
   "cell_type": "code",
   "execution_count": 22,
   "id": "e80c8428",
   "metadata": {},
   "outputs": [
    {
     "data": {
      "text/plain": [
       "0.44995408631772266"
      ]
     },
     "execution_count": 22,
     "metadata": {},
     "output_type": "execute_result"
    }
   ],
   "source": [
    "errors.mean()"
   ]
  },
  {
   "cell_type": "markdown",
   "id": "2f6e9ae2",
   "metadata": {},
   "source": [
    "The test error estimate is 45%. The logistic regression model performs poorly on average (It is slightly better than random guessing). This must be a consequence of the model not enough flexible relatively to the Bayes decision boundary.<br>\n",
    "A possible remedy is to raise the power degrees of the predictors to increase flexibility."
   ]
  },
  {
   "cell_type": "markdown",
   "id": "803495fa",
   "metadata": {},
   "source": [
    "## Exercise 8"
   ]
  },
  {
   "cell_type": "markdown",
   "id": "e04a98c1",
   "metadata": {},
   "source": [
    "### (a)"
   ]
  },
  {
   "cell_type": "code",
   "execution_count": 23,
   "id": "a59f4975",
   "metadata": {},
   "outputs": [],
   "source": [
    "rng=np.random.default_rng(1)\n",
    "x=rng.normal(size=100)\n",
    "y=x-2*x**2+rng.normal(size=100)"
   ]
  },
  {
   "cell_type": "markdown",
   "id": "0ce75bea",
   "metadata": {},
   "source": [
    "n is the number of observations and p is the number of predictors. In this case there are two predictors which are $x$ and $x^2$.<br>\n",
    "Hence, n=100 and p=2."
   ]
  },
  {
   "cell_type": "markdown",
   "id": "a40f4b24",
   "metadata": {},
   "source": [
    "### (b)"
   ]
  },
  {
   "cell_type": "code",
   "execution_count": 24,
   "id": "f5b81447",
   "metadata": {},
   "outputs": [
    {
     "data": {
      "image/png": "[encoded data removed]",
      "text/plain": [
       "<Figure size 640x480 with 1 Axes>"
      ]
     },
     "metadata": {},
     "output_type": "display_data"
    }
   ],
   "source": [
    "plt.scatter(x,y);"
   ]
  },
  {
   "cell_type": "markdown",
   "id": "6eff9d1f",
   "metadata": {},
   "source": [
    "The scatter shows a quadratic plot. \n",
    "The two points in the bottom left corner could be outsiders."
   ]
  },
  {
   "cell_type": "markdown",
   "id": "97675a2c",
   "metadata": {},
   "source": [
    "### (c)"
   ]
  },
  {
   "cell_type": "code",
   "execution_count": 25,
   "id": "0e1c3de4",
   "metadata": {},
   "outputs": [],
   "source": [
    "np.random.seed(7)"
   ]
  },
  {
   "cell_type": "code",
   "execution_count": 26,
   "id": "219662b5",
   "metadata": {},
   "outputs": [
    {
     "data": {
      "text/plain": [
       "array([6.63302984, 1.12293686, 1.30179655, 1.33239427])"
      ]
     },
     "execution_count": 26,
     "metadata": {},
     "output_type": "execute_result"
    }
   ],
   "source": [
    "n=len(x)\n",
    "x.reshape(1,-1)\n",
    "y.reshape(1,-1)\n",
    "cv_error = np.zeros(4)\n",
    "M = sklearn_sm(sm.OLS)\n",
    "for i, d in enumerate(range(1,5)):\n",
    "    X = np.power.outer(x, np.arange(d+1))\n",
    "    M_CV = cross_validate(M,X,y,cv=n)\n",
    "    cv_error[i] = np.mean(M_CV['test_score'])\n",
    "cv_error"
   ]
  },
  {
   "cell_type": "markdown",
   "id": "75348424",
   "metadata": {},
   "source": [
    "The model reported in ii returns the smallest CV error."
   ]
  },
  {
   "cell_type": "markdown",
   "id": "d6664a9a",
   "metadata": {},
   "source": [
    "### (d)"
   ]
  },
  {
   "cell_type": "code",
   "execution_count": 27,
   "id": "358947fa",
   "metadata": {},
   "outputs": [],
   "source": [
    "np.random.seed(9)"
   ]
  },
  {
   "cell_type": "code",
   "execution_count": 28,
   "id": "cc131adf",
   "metadata": {},
   "outputs": [
    {
     "data": {
      "text/plain": [
       "array([6.63302984, 1.12293686, 1.30179655, 1.33239427])"
      ]
     },
     "execution_count": 28,
     "metadata": {},
     "output_type": "execute_result"
    }
   ],
   "source": [
    "cv_error2 = np.zeros(4)\n",
    "x.reshape(1,-1)\n",
    "y.reshape(1,-1)\n",
    "M = sklearn_sm(sm.OLS)\n",
    "for i, d in enumerate(range(1,5)):\n",
    "    X = np.power.outer(x, np.arange(d+1))\n",
    "    M_CV = cross_validate(M,X,y,cv=n)\n",
    "    cv_error2[i] = np.mean(M_CV['test_score'])\n",
    "cv_error2"
   ]
  },
  {
   "cell_type": "markdown",
   "id": "12a2e015",
   "metadata": {},
   "source": [
    "The results are exactly the same because we only remove one observation from the training set. Thus, there is no random effect resulting from the observations used for the test set. LOOCV will always be the same, no matter the random seed is."
   ]
  },
  {
   "cell_type": "markdown",
   "id": "ee20b77b",
   "metadata": {},
   "source": [
    "### (e)"
   ]
  },
  {
   "cell_type": "markdown",
   "id": "2a5e6091",
   "metadata": {},
   "source": [
    "The smallest error is found for the quadratic model ii. This result was expected since that model has the same form of the true one defined in question a."
   ]
  },
  {
   "cell_type": "markdown",
   "id": "6870e8d5",
   "metadata": {},
   "source": [
    "### (f)"
   ]
  },
  {
   "cell_type": "code",
   "execution_count": 29,
   "id": "8ef4ff14",
   "metadata": {},
   "outputs": [
    {
     "data": {
      "text/html": [
       "<div>\n",
       "<style scoped>\n",
       "    .dataframe tbody tr th:only-of-type {\n",
       "        vertical-align: middle;\n",
       "    }\n",
       "\n",
       "    .dataframe tbody tr th {\n",
       "        vertical-align: top;\n",
       "    }\n",
       "\n",
       "    .dataframe thead th {\n",
       "        text-align: right;\n",
       "    }\n",
       "</style>\n",
       "<table border=\"1\" class=\"dataframe\">\n",
       "  <thead>\n",
       "    <tr style=\"text-align: right;\">\n",
       "      <th></th>\n",
       "      <th>coef</th>\n",
       "      <th>std err</th>\n",
       "      <th>t</th>\n",
       "      <th>P&gt;|t|</th>\n",
       "    </tr>\n",
       "  </thead>\n",
       "  <tbody>\n",
       "    <tr>\n",
       "      <th>poly(x, degree=4)[0]</th>\n",
       "      <td>16.6000</td>\n",
       "      <td>1.911</td>\n",
       "      <td>8.685</td>\n",
       "      <td>0.000</td>\n",
       "    </tr>\n",
       "    <tr>\n",
       "      <th>poly(x, degree=4)[1]</th>\n",
       "      <td>-22.2244</td>\n",
       "      <td>1.911</td>\n",
       "      <td>-11.627</td>\n",
       "      <td>0.000</td>\n",
       "    </tr>\n",
       "    <tr>\n",
       "      <th>poly(x, degree=4)[2]</th>\n",
       "      <td>-1.0768</td>\n",
       "      <td>1.911</td>\n",
       "      <td>-0.563</td>\n",
       "      <td>0.575</td>\n",
       "    </tr>\n",
       "    <tr>\n",
       "      <th>poly(x, degree=4)[3]</th>\n",
       "      <td>2.2726</td>\n",
       "      <td>1.911</td>\n",
       "      <td>1.189</td>\n",
       "      <td>0.237</td>\n",
       "    </tr>\n",
       "  </tbody>\n",
       "</table>\n",
       "</div>"
      ],
      "text/plain": [
       "                         coef  std err       t  P>|t|\n",
       "poly(x, degree=4)[0]  16.6000    1.911   8.685  0.000\n",
       "poly(x, degree=4)[1] -22.2244    1.911 -11.627  0.000\n",
       "poly(x, degree=4)[2]  -1.0768    1.911  -0.563  0.575\n",
       "poly(x, degree=4)[3]   2.2726    1.911   1.189  0.237"
      ]
     },
     "execution_count": 29,
     "metadata": {},
     "output_type": "execute_result"
    }
   ],
   "source": [
    "df=pd.DataFrame({'x':x,'y':y})\n",
    "X= MS([poly('x', degree=4)],intercept=False).fit_transform(df)\n",
    "model=sm.OLS(y,X)\n",
    "result=model.fit()\n",
    "summarize(result)"
   ]
  },
  {
   "cell_type": "markdown",
   "id": "144ea991",
   "metadata": {},
   "source": [
    "As it was expected, the pvalues show that the only significant coefficients are those related to $x$ and $x^2$."
   ]
  },
  {
   "cell_type": "markdown",
   "id": "9193ebc2",
   "metadata": {},
   "source": [
    "## Exercise 9"
   ]
  },
  {
   "cell_type": "code",
   "execution_count": 30,
   "id": "7ec727fc",
   "metadata": {},
   "outputs": [],
   "source": [
    "Boston=load_data('Boston')"
   ]
  },
  {
   "cell_type": "markdown",
   "id": "f2c0fe51",
   "metadata": {},
   "source": [
    "### (a)"
   ]
  },
  {
   "cell_type": "code",
   "execution_count": 31,
   "id": "5d009aa7",
   "metadata": {},
   "outputs": [
    {
     "data": {
      "text/plain": [
       "22.532806324110677"
      ]
     },
     "execution_count": 31,
     "metadata": {},
     "output_type": "execute_result"
    }
   ],
   "source": [
    "mu_hat=Boston['medv'].mean()\n",
    "mu_hat"
   ]
  },
  {
   "cell_type": "markdown",
   "id": "b884f01e",
   "metadata": {},
   "source": [
    "The population mean estimate for medv is 22.53."
   ]
  },
  {
   "cell_type": "markdown",
   "id": "6b30db23",
   "metadata": {},
   "source": [
    "### (b)"
   ]
  },
  {
   "cell_type": "code",
   "execution_count": 45,
   "id": "97c69dfa",
   "metadata": {},
   "outputs": [
    {
     "data": {
      "text/plain": [
       "0.4088611474975351"
      ]
     },
     "execution_count": 45,
     "metadata": {},
     "output_type": "execute_result"
    }
   ],
   "source": [
    "SE_mu_hat=Boston['medv'].std()/(Boston.shape[0])**0.5\n",
    "SE_mu_hat"
   ]
  },
  {
   "cell_type": "markdown",
   "id": "50a53349",
   "metadata": {},
   "source": [
    "The obtained estimation of the standard deviation is 0.41."
   ]
  },
  {
   "cell_type": "code",
   "execution_count": 46,
   "id": "058ba61e",
   "metadata": {},
   "outputs": [
    {
     "data": {
      "text/plain": [
       "RangeIndex(start=0, stop=506, step=1)"
      ]
     },
     "execution_count": 46,
     "metadata": {},
     "output_type": "execute_result"
    }
   ],
   "source": [
    "Boston['medv'].index"
   ]
  },
  {
   "cell_type": "markdown",
   "id": "eb62b399",
   "metadata": {},
   "source": [
    "### (c)"
   ]
  },
  {
   "cell_type": "code",
   "execution_count": 60,
   "id": "9e5c774f",
   "metadata": {},
   "outputs": [
    {
     "data": {
      "text/plain": [
       "0.4047759328720298"
      ]
     },
     "execution_count": 60,
     "metadata": {},
     "output_type": "execute_result"
    }
   ],
   "source": [
    "means=[]\n",
    "for _ in range(1000):\n",
    "    means.append(Boston['medv'].sample(n=Boston.shape[0],replace=True,random_state=None).mean())\n",
    "boot_std=np.std(means)\n",
    "boot_std"
   ]
  },
  {
   "cell_type": "markdown",
   "id": "8d58b9ea",
   "metadata": {},
   "source": [
    "The answer is approximately the same as the one obtained in (b)."
   ]
  },
  {
   "cell_type": "markdown",
   "id": "cb47d6d4",
   "metadata": {},
   "source": [
    "### (d)"
   ]
  },
  {
   "cell_type": "code",
   "execution_count": 61,
   "id": "f89a1c5e",
   "metadata": {},
   "outputs": [
    {
     "name": "stdout",
     "output_type": "stream",
     "text": [
      "The 95% confidence interval for the mean of medv is 21.72325445836662 23.342358189854735\n"
     ]
    }
   ],
   "source": [
    "print('The 95% confidence interval for the mean of medv is', mu_hat-2*boot_std,mu_hat+2*boot_std)"
   ]
  },
  {
   "cell_type": "markdown",
   "id": "6ff10c71",
   "metadata": {},
   "source": [
    "### (e)"
   ]
  },
  {
   "cell_type": "code",
   "execution_count": 63,
   "id": "b6590552",
   "metadata": {},
   "outputs": [
    {
     "data": {
      "text/plain": [
       "21.2"
      ]
     },
     "execution_count": 63,
     "metadata": {},
     "output_type": "execute_result"
    }
   ],
   "source": [
    "mu_med=Boston['medv'].median()\n",
    "mu_med"
   ]
  },
  {
   "cell_type": "markdown",
   "id": "7482bb05",
   "metadata": {},
   "source": [
    "### (f)"
   ]
  },
  {
   "cell_type": "code",
   "execution_count": 82,
   "id": "39ae668b",
   "metadata": {},
   "outputs": [
    {
     "data": {
      "text/plain": [
       "0.3806817673267263"
      ]
     },
     "execution_count": 82,
     "metadata": {},
     "output_type": "execute_result"
    }
   ],
   "source": [
    "medians=[]\n",
    "for _ in range(10000):\n",
    "    medians.append(Boston['medv'].sample(n=Boston.shape[0],replace=True).median())\n",
    "boot_med_std=np.std(medians)\n",
    "boot_med_std"
   ]
  },
  {
   "cell_type": "markdown",
   "id": "562c3e3d",
   "metadata": {},
   "source": [
    "The standard error of the median is less than the standard error of the mean. This a sign of non normality of the distribution of feature 'medv'."
   ]
  },
  {
   "cell_type": "code",
   "execution_count": 85,
   "id": "b5dcf88a",
   "metadata": {},
   "outputs": [
    {
     "data": {
      "text/plain": [
       "12.75"
      ]
     },
     "execution_count": 85,
     "metadata": {},
     "output_type": "execute_result"
    }
   ],
   "source": [
    "mu_01=np.percentile(Boston['medv'],10)\n",
    "mu_01"
   ]
  },
  {
   "cell_type": "markdown",
   "id": "14368a54",
   "metadata": {},
   "source": [
    "### (g)"
   ]
  },
  {
   "cell_type": "code",
   "execution_count": 88,
   "id": "edefd3ea",
   "metadata": {},
   "outputs": [
    {
     "data": {
      "text/plain": [
       "0.500366615593007"
      ]
     },
     "execution_count": 88,
     "metadata": {},
     "output_type": "execute_result"
    }
   ],
   "source": [
    "percentiles=[]\n",
    "for _ in range(5000):\n",
    "    sample=Boston['medv'].sample(n=Boston.shape[0],replace=True)\n",
    "    percentiles.append(np.percentile(sample,10))\n",
    "boot_mu01_std=np.std(percentiles)\n",
    "boot_mu01_std"
   ]
  },
  {
   "cell_type": "markdown",
   "id": "5a405e2a",
   "metadata": {},
   "source": [
    "The standard error is small relatively to the tenth percentile value."
   ]
  },
  {
   "cell_type": "code",
   "execution_count": null,
   "id": "8e66072f",
   "metadata": {},
   "outputs": [],
   "source": []
  }
 ],
 "metadata": {
  "kernelspec": {
   "display_name": "Python 3 (ipykernel)",
   "language": "python",
   "name": "python3"
  },
  "language_info": {
   "codemirror_mode": {
    "name": "ipython",
    "version": 3
   },
   "file_extension": ".py",
   "mimetype": "text/x-python",
   "name": "python",
   "nbconvert_exporter": "python",
   "pygments_lexer": "ipython3",
   "version": "3.11.5"
  }
 },
 "nbformat": 4,
 "nbformat_minor": 5
}
